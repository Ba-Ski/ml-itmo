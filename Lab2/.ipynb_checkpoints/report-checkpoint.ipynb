{
 "cells": [
  {
   "cell_type": "markdown",
   "metadata": {
    "collapsed": true
   },
   "source": [
    "Структура исходных данных:\n",
    "    0. Class: brickface, sky, foliage, cement, window, path, grass.\n",
    "    1.  region-centroid-col:  the column of the center pixel of the region.\n",
    "    2.  region-centroid-row:  the row of the center pixel of the region.\n",
    "    3.  region-pixel-count:  the number of pixels in a region = 9.\n",
    "    4.  short-line-density-5:  the results of a line extractoin algorithm that \n",
    "         counts how many lines of length 5 (any orientation) with\n",
    "         low contrast, less than or equal to 5, go through the region.\n",
    "    5.  short-line-density-2:  same as short-line-density-5 but counts lines\n",
    "         of high contrast, greater than 5.\n",
    "    6.  vedge-mean:  measure the contrast of horizontally\n",
    "         adjacent pixels in the region.  There are 6, the mean and \n",
    "         standard deviation are given.  This attribute is used as\n",
    "        a vertical edge detector.\n",
    "    7.  vegde-sd:  (see 6)\n",
    "    8.  hedge-mean:  measures the contrast of vertically adjacent\n",
    "          pixels. Used for horizontal line detection. \n",
    "    9.  hedge-sd: (see 8).\n",
    "    10. intensity-mean:  the average over the region of (R + G + B)/3\n",
    "    11. rawred-mean: the average over the region of the R value.\n",
    "    12. rawblue-mean: the average over the region of the B value.\n",
    "    13. rawgreen-mean: the average over the region of the G value.\n",
    "    14. exred-mean: measure the excess red:  (2R - (G + B))\n",
    "    15. exblue-mean: measure the excess blue:  (2B - (G + R))\n",
    "    16. exgreen-mean: measure the excess green:  (2G - (R + B))\n",
    "    17. value-mean:  3-d nonlinear transformation\n",
    "         of RGB. (Algorithm can be found in Foley and VanDam, Fundamentals\n",
    "         of Interactive Computer Graphics)\n",
    "    18. saturatoin-mean:  (see 17)\n",
    "    19. hue-mean:  (see 17)\n"
   ]
  },
  {
   "cell_type": "code",
   "execution_count": null,
   "metadata": {},
   "outputs": [
    {
     "ename": "NameError",
     "evalue": "name 'read' is not defined",
     "output_type": "error",
     "traceback": [
      "\u001b[1;31m---------------------------------------------------------------------------\u001b[0m",
      "\u001b[1;31mNameError\u001b[0m                                 Traceback (most recent call last)",
      "\u001b[1;32m<ipython-input-1-740e0afc072b>\u001b[0m in \u001b[0;36m<module>\u001b[1;34m()\u001b[0m\n\u001b[1;32m----> 1\u001b[1;33m \u001b[0mres\u001b[0m \u001b[1;33m=\u001b[0m \u001b[0mread\u001b[0m\u001b[1;33m\u001b[0m\u001b[0m\n\u001b[0m",
      "\u001b[1;31mNameError\u001b[0m: name 'read' is not defined"
     ]
    }
   ],
   "source": [
    "\n",
    "\n",
    "res = read"
   ]
  },
  {
   "cell_type": "code",
   "execution_count": null,
   "metadata": {
    "collapsed": true
   },
   "outputs": [],
   "source": []
  }
 ],
 "metadata": {
  "kernelspec": {
   "display_name": "Python 2",
   "language": "python",
   "name": "python2"
  },
  "language_info": {
   "codemirror_mode": {
    "name": "ipython",
    "version": 2
   },
   "file_extension": ".py",
   "mimetype": "text/x-python",
   "name": "python",
   "nbconvert_exporter": "python",
   "pygments_lexer": "ipython2",
   "version": "2.7.13"
  }
 },
 "nbformat": 4,
 "nbformat_minor": 1
}
