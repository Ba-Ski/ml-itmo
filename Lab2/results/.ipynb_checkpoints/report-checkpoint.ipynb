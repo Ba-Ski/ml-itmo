{
 "cells": [
  {
   "cell_type": "markdown",
   "metadata": {
    "collapsed": true
   },
   "source": [
    "# Лабораторная работа №2\n",
    "\n",
    "### Структура исходных данных\n",
    "\n",
    "The instances were drawn randomly from a database of 7 outdoor images. The images were handsegmented to create a classification for every pixel.\n",
    "\n",
    "Each instance is a 3x3 region.\n",
    "\n",
    "Attribute Information. Float values:\n",
    "    1.  region-centroid-col:  the column of the center pixel of the region.\n",
    "    2.  region-centroid-row:  the row of the center pixel of the region.\n",
    "    3.  region-pixel-count:  the number of pixels in a region = 9.\n",
    "    4.  short-line-density-5:  the results of a line extractoin algorithm that \n",
    "         counts how many lines of length 5 (any orientation) with\n",
    "         low contrast, less than or equal to 5, go through the region.\n",
    "    5.  short-line-density-2:  same as short-line-density-5 but counts lines\n",
    "         of high contrast, greater than 5.\n",
    "    6.  vedge-mean:  measure the contrast of horizontally\n",
    "         adjacent pixels in the region.  There are 6, the mean and \n",
    "         standard deviation are given.  This attribute is used as\n",
    "        a vertical edge detector.\n",
    "    7.  vegde-sd:  (see 6)\n",
    "    8.  hedge-mean:  measures the contrast of vertically adjacent\n",
    "          pixels. Used for horizontal line detection. \n",
    "    9.  hedge-sd: (see 8).\n",
    "    10. intensity-mean:  the average over the region of (R + G + B)/3\n",
    "    11. rawred-mean: the average over the region of the R value.\n",
    "    12. rawblue-mean: the average over the region of the B value.\n",
    "    13. rawgreen-mean: the average over the region of the G value.\n",
    "    14. exred-mean: measure the excess red:  (2R - (G + B))\n",
    "    15. exblue-mean: measure the excess blue:  (2B - (G + R))\n",
    "    16. exgreen-mean: measure the excess green:  (2G - (R + B))\n",
    "    17. value-mean:  3-d nonlinear transformation\n",
    "         of RGB. (Algorithm can be found in Foley and VanDam, Fundamentals\n",
    "         of Interactive Computer Graphics)\n",
    "    18. saturatoin-mean:  (see 17)\n",
    "    19. hue-mean:  (see 17)\n",
    "    \n",
    "Classes: \n",
    " * brickface,\n",
    " * sky,\n",
    " * foliage,\n",
    " * cement,\n",
    " * window,\n",
    " * path,\n",
    " * grass."
   ]
  },
  {
   "cell_type": "code",
   "execution_count": null,
   "metadata": {
    "collapsed": true
   },
   "outputs": [],
   "source": []
  },
  {
   "cell_type": "markdown",
   "metadata": {},
   "source": [
    "### Ход работы\n",
    "\n",
    "Программный код, использованный для вычилсений можно посмотреть в файлах main.py и decision_tree.py \n",
    "\n",
    "Пример кода:"
   ]
  },
  {
   "cell_type": "code",
   "execution_count": 1,
   "metadata": {
    "collapsed": true
   },
   "outputs": [],
   "source": [
    "from sklearn.ensemble import RandomForestClassifier\n",
    "from sklearn.metrics import accuracy_score\n",
    "from sklearn.tree import DecisionTreeClassifier\n",
    "\n",
    "\n",
    "class DecisionTree:\n",
    "    def __init__(self, data):\n",
    "        self.data = data\n",
    "        self.dtc = DecisionTreeClassifier()\n",
    "        self.rfc = RandomForestClassifier()\n",
    "\n",
    "    def run(self):\n",
    "        self.dtc.fit(self.data.train_x, self.data.train_y)\n",
    "        self.rfc.fit(self.data.train_x, self.data.train_y)\n",
    "\n",
    "        dtc_predict = self.dtc.predict(self.data.test_x)\n",
    "        rfc_predict = self.rfc.predict(self.data.test_x)\n",
    "\n",
    "        dtc_accuracy = accuracy_score(self.data.test_y, dtc_predict)\n",
    "        rfc_accuracy = accuracy_score(self.data.test_y, rfc_predict)\n",
    "\n",
    "        return dtc_accuracy, rfc_accuracy\n",
    "\n",
    "    \n",
    "def main():\n",
    "    raw_data = pnd.read_table('../data/segmentation.test', sep=',', header=None, lineterminator='\\n')\n",
    "\n",
    "    open('results/results.txt', 'w').close()\n",
    "\n",
    "    set_test_coefficients = [0.6, 0.7, 0.8, 0.9]\n",
    "    experiments = []\n",
    "\n",
    "    for c in set_test_coefficients:\n",
    "        experiments.append(DecisionTree(Data(raw_data, c)))\n",
    "\n",
    "    pairs = zip(set_test_coefficients, experiments)\n",
    "\n",
    "    for c, exp in pairs:\n",
    "        d_accuracy, r_accuracy = exp.run()\n",
    "        print_results(1, c, d_accuracy, r_accuracy)"
   ]
  },
  {
   "cell_type": "markdown",
   "metadata": {},
   "source": [
    "### Результаты"
   ]
  },
  {
   "cell_type": "code",
   "execution_count": 10,
   "metadata": {},
   "outputs": [
    {
     "data": {
      "text/html": [
       "<div>\n",
       "<style>\n",
       "    .dataframe thead tr:only-child th {\n",
       "        text-align: right;\n",
       "    }\n",
       "\n",
       "    .dataframe thead th {\n",
       "        text-align: left;\n",
       "    }\n",
       "\n",
       "    .dataframe tbody tr th {\n",
       "        vertical-align: top;\n",
       "    }\n",
       "</style>\n",
       "<table border=\"1\" class=\"dataframe\">\n",
       "  <thead>\n",
       "    <tr style=\"text-align: right;\">\n",
       "      <th></th>\n",
       "      <th>experiment number</th>\n",
       "      <th>train set size</th>\n",
       "      <th>decision tree accuracy</th>\n",
       "      <th>random forest accuracy</th>\n",
       "    </tr>\n",
       "  </thead>\n",
       "  <tbody>\n",
       "    <tr>\n",
       "      <th>0</th>\n",
       "      <td>1</td>\n",
       "      <td>60.0</td>\n",
       "      <td>88.095238</td>\n",
       "      <td>92.500000</td>\n",
       "    </tr>\n",
       "    <tr>\n",
       "      <th>1</th>\n",
       "      <td>1</td>\n",
       "      <td>70.0</td>\n",
       "      <td>89.523810</td>\n",
       "      <td>90.634921</td>\n",
       "    </tr>\n",
       "    <tr>\n",
       "      <th>2</th>\n",
       "      <td>1</td>\n",
       "      <td>80.0</td>\n",
       "      <td>87.619048</td>\n",
       "      <td>91.904762</td>\n",
       "    </tr>\n",
       "    <tr>\n",
       "      <th>3</th>\n",
       "      <td>1</td>\n",
       "      <td>90.0</td>\n",
       "      <td>86.666667</td>\n",
       "      <td>91.428571</td>\n",
       "    </tr>\n",
       "  </tbody>\n",
       "</table>\n",
       "</div>"
      ],
      "text/plain": [
       "   experiment number  train set size  decision tree accuracy  \\\n",
       "0                  1            60.0               88.095238   \n",
       "1                  1            70.0               89.523810   \n",
       "2                  1            80.0               87.619048   \n",
       "3                  1            90.0               86.666667   \n",
       "\n",
       "   random forest accuracy  \n",
       "0               92.500000  \n",
       "1               90.634921  \n",
       "2               91.904762  \n",
       "3               91.428571  "
      ]
     },
     "execution_count": 10,
     "metadata": {},
     "output_type": "execute_result"
    }
   ],
   "source": [
    "import pandas as pd\n",
    "\n",
    "names = ['experiment number', 'train set size', 'decision tree accuracy', 'random forest accuracy']\n",
    "res = pd.read_csv('./results.txt', header=None, names=names)\n",
    "res"
   ]
  },
  {
   "cell_type": "code",
   "execution_count": null,
   "metadata": {
    "collapsed": true
   },
   "outputs": [],
   "source": []
  },
  {
   "cell_type": "markdown",
   "metadata": {},
   "source": [
    "### Вывод\n",
    "\n",
    "В ходе лабораторной работы были получены практические навыки работы с методом деревьев решений на практических примерах с использованием языка программирования python и библиотеки sklearn.\n",
    "\n",
    "Были использованы классификаторы Dicision Tree Classifier и Randrom Forest Classifier, показавшие хорошую точность предсказаний (88 - 100%) с различными по размеру обучающими выборками. Тем не менее Randrom Forest Classifier показал лучший результат по сравнению с Dicision Tree Classifier в каждом эксперименте"
   ]
  }
 ],
 "metadata": {
  "kernelspec": {
   "display_name": "Python 2",
   "language": "python",
   "name": "python2"
  },
  "language_info": {
   "codemirror_mode": {
    "name": "ipython",
    "version": 2
   },
   "file_extension": ".py",
   "mimetype": "text/x-python",
   "name": "python",
   "nbconvert_exporter": "python",
   "pygments_lexer": "ipython2",
   "version": "2.7.13"
  }
 },
 "nbformat": 4,
 "nbformat_minor": 1
}
