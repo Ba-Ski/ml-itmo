{
 "cells": [
  {
   "cell_type": "markdown",
   "metadata": {
    "collapsed": true
   },
   "source": [
    "# Лабораторная работа №5\n",
    "## Метрики качества классификации"
   ]
  },
  {
   "cell_type": "markdown",
   "metadata": {},
   "source": [
    "Для оценки классификаторов используем другой набор данных - https://archive.ics.uci.edu/ml/datasets/SPECT+Heart\n",
    "\n",
    "Данные отобображают зависимость между нормальным/аномальным состоянием сердца пациента и результатами его однофотонной эмиссионной компьютерной томографии. \n",
    "Соответственно этот набор данных имеет всего два класса: 1 и 0 (норма, аномалия), благодаря этому мы сможем оценить бинарную классификацию."
   ]
  },
  {
   "cell_type": "markdown",
   "metadata": {},
   "source": [
    "### Текст программы:"
   ]
  },
  {
   "cell_type": "code",
   "execution_count": 30,
   "metadata": {},
   "outputs": [],
   "source": [
    "import pandas as pnd\n",
    "from sklearn.ensemble import RandomForestClassifier\n",
    "from sklearn.metrics import classification_report\n",
    "from sklearn.metrics import confusion_matrix\n",
    "from sklearn.model_selection import cross_validate\n",
    "from sklearn.model_selection import train_test_split\n",
    "from sklearn.naive_bayes import GaussianNB\n",
    "\n",
    "\n",
    "class Data:\n",
    "    def __init__(self, data, train_size):\n",
    "        self.x = data.values[:, 1:]\n",
    "        self.y = data.values[:, 0]\n",
    "        self.train_size = train_size\n",
    "        self.train_x, self.test_x, self.train_y, self.test_y = train_test_split(self.x, self.y,\n",
    "                                                                                train_size=train_size)\n",
    "        self.y_names = set(self.y)\n",
    "\n",
    "\n",
    "def calculate_metrics(data, gnb, tree):\n",
    "    scoring = ['accuracy', 'neg_log_loss', 'roc_auc']\n",
    "\n",
    "    gnb_scores = cross_validate(gnb, data.x, data.y, scoring=scoring,\n",
    "                                cv=5, return_train_score=False)\n",
    "\n",
    "    tree_scores = cross_validate(tree, data.x, data.y, scoring=scoring,\n",
    "                                 cv=5, return_train_score=False)\n",
    "\n",
    "    gnb_mean, gnb_std = gnb_scores['test_accuracy'].mean(), gnb_scores['test_accuracy'].std()\n",
    "    tree_mean, tree_std = tree_scores['test_accuracy'].mean(), tree_scores['test_accuracy'].std()\n",
    "    print('Accuracy for GaussianNB: %0.3f (+/- %0.2f)\\n'\n",
    "          'Accuracy for RandomTree: %0.3f (+/- %0.2f)\\n' % (gnb_mean, gnb_std, tree_mean, tree_std))\n",
    "\n",
    "    gnb_mean, gnb_std = gnb_scores['test_neg_log_loss'].mean(), gnb_scores['test_neg_log_loss'].std()\n",
    "    tree_mean, tree_std = tree_scores['test_neg_log_loss'].mean(), tree_scores['test_neg_log_loss'].std()\n",
    "    print('Logarithmic loss for GaussianNB: %0.3f (+/- %0.2f)\\n'\n",
    "          'Logarithmic loss for RandomTree: %0.3f (+/- %0.2f)\\n' % (gnb_mean, gnb_std, tree_mean, tree_std))\n",
    "\n",
    "    gnb_mean, gnb_std = gnb_scores['test_roc_auc'].mean(), gnb_scores['test_roc_auc'].std()\n",
    "    tree_mean, tree_std = tree_scores['test_roc_auc'].mean(), tree_scores['test_roc_auc'].std()\n",
    "    print('Area under ROC curve for GaussianNB: %0.3f (+/- %0.2f)\\n'\n",
    "          'Area under ROC curve for RandomTree: %0.3f (+/- %0.3f)\\n' % (gnb_mean, gnb_std, tree_mean, tree_std ))\n",
    "\n",
    "\n",
    "def confus_matrix(data, gnb, tree):\n",
    "    gnb_matrix = confusion_matrix(data.test_y, gnb.predict(data.test_x))\n",
    "    print(\"Confusion matrix for GaussianNB\")\n",
    "    print(gnb_matrix)\n",
    "\n",
    "    tree_matrix = confusion_matrix(data.test_y, tree.predict(data.test_x))\n",
    "    print(\"Confusion matrix for RandomForest\")\n",
    "    print(tree_matrix)\n",
    "\n",
    "\n",
    "def class_report(data, gnb, tree):\n",
    "    gnb_report = classification_report(data.test_y, gnb.predict(data.test_x))\n",
    "    print('Classification report for GaussianNB:')\n",
    "    print(gnb_report)\n",
    "\n",
    "    lda_report = classification_report(data.test_y, tree.predict(data.test_x))\n",
    "    print('Classification report for RandomForest:')\n",
    "    print(lda_report)\n",
    "\n",
    "\n",
    "def get_data():\n",
    "    raw_data = pnd.read_table('../../data/spectf.data', sep=',', header=None, lineterminator='\\n')\n",
    "    return Data(raw_data, 0.7)\n",
    "\n",
    "\n",
    "\n",
    "data = get_data()\n",
    "\n",
    "gnb = GaussianNB()\n",
    "tree = RandomForestClassifier()\n",
    "\n",
    "_ = gnb.fit(data.train_x, data.train_y)\n",
    "_ = tree.fit(data.train_x, data.train_y)"
   ]
  },
  {
   "cell_type": "markdown",
   "metadata": {},
   "source": [
    "В качестве оцениваемых методов классификации выберем Байесовский классификатор (GaussianNB) и дерево решений построенное с помощью алгоритма Random Forest (RandomForestClassifier).\n",
    "\n",
    "Определим на нашем наборе данных следующие метрики:\n",
    " * Точность классификации.\n",
    " * Логарифм функции правдоподобия.\n",
    " * Область под кривой ошибок."
   ]
  },
  {
   "cell_type": "code",
   "execution_count": 31,
   "metadata": {},
   "outputs": [
    {
     "name": "stdout",
     "output_type": "stream",
     "text": [
      "Accuracy for GaussianNB: 0.670 (+/- 0.07)\n",
      "Accuracy for RandomTree: 0.809 (+/- 0.04)\n",
      "\n",
      "Logarithmic loss for GaussianNB: -4.577 (+/- 1.57)\n",
      "Logarithmic loss for RandomTree: -0.776 (+/- 0.47)\n",
      "\n",
      "Area under ROC curve for GaussianNB: 0.838 (+/- 0.06)\n",
      "Area under ROC curve for RandomTree: 0.775 (+/- 0.035)\n",
      "\n"
     ]
    }
   ],
   "source": [
    "calculate_metrics(data, gnb, tree)"
   ]
  },
  {
   "cell_type": "markdown",
   "metadata": {},
   "source": [
    "Теперь рассчитаем матрицу неточностей:"
   ]
  },
  {
   "cell_type": "code",
   "execution_count": 32,
   "metadata": {},
   "outputs": [
    {
     "name": "stdout",
     "output_type": "stream",
     "text": [
      "Confusion matrix for GaussianNB\n",
      "[[16  3]\n",
      " [19 43]]\n",
      "Confusion matrix for RandomForest\n",
      "[[ 3 16]\n",
      " [ 4 58]]\n"
     ]
    }
   ],
   "source": [
    "confus_matrix(data, gnb, tree)"
   ]
  },
  {
   "cell_type": "markdown",
   "metadata": {},
   "source": [
    "и получим отчет классификации:"
   ]
  },
  {
   "cell_type": "code",
   "execution_count": 33,
   "metadata": {},
   "outputs": [
    {
     "name": "stdout",
     "output_type": "stream",
     "text": [
      "Classification report for GaussianNB:\n",
      "             precision    recall  f1-score   support\n",
      "\n",
      "          0       0.46      0.84      0.59        19\n",
      "          1       0.93      0.69      0.80        62\n",
      "\n",
      "avg / total       0.82      0.73      0.75        81\n",
      "\n",
      "Classification report for RandomForest:\n",
      "             precision    recall  f1-score   support\n",
      "\n",
      "          0       0.43      0.16      0.23        19\n",
      "          1       0.78      0.94      0.85        62\n",
      "\n",
      "avg / total       0.70      0.75      0.71        81\n",
      "\n"
     ]
    }
   ],
   "source": [
    "class_report(data, gnb, tree)"
   ]
  },
  {
   "cell_type": "markdown",
   "metadata": {},
   "source": [
    "# Вывод\n",
    "\n",
    "Основываясь на полученных метриках, можно сделать вывод, что классификаторы вполне применимы для даннного датасета, но стоит задуматься о проверке других классификаторов, которые бы дали более высокие результаты на некоторых метриках."
   ]
  }
 ],
 "metadata": {
  "kernelspec": {
   "display_name": "Python 2",
   "language": "python",
   "name": "python2"
  },
  "language_info": {
   "codemirror_mode": {
    "name": "ipython",
    "version": 2
   },
   "file_extension": ".py",
   "mimetype": "text/x-python",
   "name": "python",
   "nbconvert_exporter": "python",
   "pygments_lexer": "ipython2",
   "version": "2.7.13"
  }
 },
 "nbformat": 4,
 "nbformat_minor": 1
}
